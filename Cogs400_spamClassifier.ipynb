{
  "nbformat": 4,
  "nbformat_minor": 0,
  "metadata": {
    "colab": {
      "name": "Cogs400-spamClassifier.ipynb",
      "provenance": [],
      "collapsed_sections": [],
      "mount_file_id": "1KZ30ABvGpthkzh2AqyczjwgfO41ljAJH",
      "authorship_tag": "ABX9TyNlCM289thi8hU0ZcTcetXF",
      "include_colab_link": true
    },
    "kernelspec": {
      "name": "python3",
      "display_name": "Python 3"
    },
    "language_info": {
      "name": "python"
    },
    "accelerator": "GPU"
  },
  "cells": [
    {
      "cell_type": "markdown",
      "metadata": {
        "id": "view-in-github",
        "colab_type": "text"
      },
      "source": [
        "<a href=\"https://colab.research.google.com/github/19CWI/SpamClassifier/blob/main/Cogs400_spamClassifier.ipynb\" target=\"_parent\"><img src=\"https://colab.research.google.com/assets/colab-badge.svg\" alt=\"Open In Colab\"/></a>"
      ]
    },
    {
      "cell_type": "markdown",
      "source": [
        "dataset:  https://www.kaggle.com/datasets/veleon/ham-and-spam-dataset"
      ],
      "metadata": {
        "id": "HZKBY1QpXt0a"
      }
    },
    {
      "cell_type": "code",
      "metadata": {
        "id": "QnkH1SPBEJoe",
        "colab": {
          "base_uri": "https://localhost:8080/"
        },
        "outputId": "b2c0705b-8a15-4754-eec8-008fcbc43ab0"
      },
      "source": [
        "cd \"/content/drive/MyDrive/Colab Notebooks/datasets/spamMailDataset\""
      ],
      "execution_count": null,
      "outputs": [
        {
          "output_type": "stream",
          "name": "stdout",
          "text": [
            "/content/drive/MyDrive/Colab Notebooks/datasets/spamMailDataset\n"
          ]
        }
      ]
    },
    {
      "cell_type": "code",
      "metadata": {
        "id": "OgF62KHnVEDh"
      },
      "source": [
        "rm -rf ham/ hamnspam/ spam/"
      ],
      "execution_count": null,
      "outputs": []
    },
    {
      "cell_type": "code",
      "metadata": {
        "id": "SHEpS1g-y4lJ"
      },
      "source": [
        "!unzip archive.zip"
      ],
      "execution_count": null,
      "outputs": []
    },
    {
      "cell_type": "code",
      "metadata": {
        "id": "tpGCjDvdRqfb"
      },
      "source": [
        "ls"
      ],
      "execution_count": null,
      "outputs": []
    },
    {
      "cell_type": "code",
      "metadata": {
        "id": "aPfBzgFcOmiw"
      },
      "source": [
        "dataLocation = \"/content/drive/MyDrive/Colab Notebooks/datasets/spamMailDataset/hamnspam/\""
      ],
      "execution_count": null,
      "outputs": []
    },
    {
      "cell_type": "code",
      "metadata": {
        "id": "gfj2Hm7dPmjP"
      },
      "source": [
        "import pandas as pd\n",
        "import numpy as np\n",
        "import sklearn.model_selection\n",
        "import matplotlib.pyplot as plt\n",
        "import tensorflow as tf\n",
        "import os\n",
        "import email\n",
        "import email.policy\n",
        "from bs4 import BeautifulSoup"
      ],
      "execution_count": null,
      "outputs": []
    },
    {
      "cell_type": "code",
      "metadata": {
        "colab": {
          "base_uri": "https://localhost:8080/"
        },
        "id": "vInNj7DMS5Wf",
        "outputId": "4e7f1e3a-02c6-47cb-bd59-68ab98220006"
      },
      "source": [
        "ham_filenames = [name for name in sorted(os.listdir(dataLocation + 'ham')) if len(name) > 20] #get file names\n",
        "spam_filenames = [name for name in sorted(os.listdir(dataLocation + 'spam')) if len(name) > 20]\n",
        "len(ham_filenames), len(spam_filenames)"
      ],
      "execution_count": null,
      "outputs": [
        {
          "output_type": "execute_result",
          "data": {
            "text/plain": [
              "(2551, 501)"
            ]
          },
          "metadata": {},
          "execution_count": 7
        }
      ]
    },
    {
      "cell_type": "code",
      "metadata": {
        "id": "46EGEJhTQF3R"
      },
      "source": [
        "def load_email(is_spam, filename): #opens and loads email into email object\n",
        "  directory = dataLocation+ \"spam\" if is_spam else dataLocation + \"ham\"\n",
        "  with open(os.path.join(directory, filename), \"rb\") as f:\n",
        "    return email.parser.BytesParser(policy=email.policy.default).parse(f)\n",
        "    "
      ],
      "execution_count": null,
      "outputs": []
    },
    {
      "cell_type": "code",
      "metadata": {
        "id": "keBlZQPsSSl-"
      },
      "source": [
        "ham_emails = [load_email(is_spam=False, filename=name) for name in ham_filenames] #loads all emails\n",
        "spam_emails = [load_email(is_spam=True, filename=name) for name in spam_filenames]"
      ],
      "execution_count": null,
      "outputs": []
    },
    {
      "cell_type": "code",
      "metadata": {
        "id": "uJlh07gAaqIK"
      },
      "source": [
        "def html_to_plain(email): #self explanitory\n",
        "    try:\n",
        "        soup = BeautifulSoup(email.get_content(), 'html.parser')\n",
        "        return soup.text.replace('\\n\\n','')\n",
        "    except:\n",
        "        return None"
      ],
      "execution_count": null,
      "outputs": []
    },
    {
      "cell_type": "code",
      "metadata": {
        "id": "dRQgIpE4ay3J"
      },
      "source": [
        "def parseMail(emails,label,data,defaultSubject=None): #parces readable formats in a list of emails and extracts relavent information\n",
        "  for email in emails:\n",
        "    for part in email.walk():\n",
        "      partContentType = part.get_content_type()\n",
        "      if partContentType not in ['text/plain','text/html']:\n",
        "        continue\n",
        "      try:\n",
        "        partContent = part.get_content()\n",
        "      except: # in case of encoding issues\n",
        "        partContent = str(part.get_payload())\n",
        "      subject=part['Subject']\n",
        "      if(subject is None):\n",
        "        data['subject'].append(defaultSubject)\n",
        "      else:\n",
        "        data['subject'].append(\" \"+subject+\" \")\n",
        "      if partContentType == 'text/plain':\n",
        "        data['content'].append(\" \"+partContent+\" \")\n",
        "      else:\n",
        "        data['content'].append(html_to_plain(part))\n",
        "      data['label'].append(label)"
      ],
      "execution_count": null,
      "outputs": []
    },
    {
      "cell_type": "code",
      "metadata": {
        "id": "VX4aDDrsa22q"
      },
      "source": [
        "data = {'subject':[], 'content':[], 'label':[]} #parses all emails with classes into dataframe\n",
        "parseMail(ham_emails,True,data)\n",
        "parseMail(spam_emails,False,data)\n",
        "df = pd.DataFrame(data)\n",
        "df.dropna(inplace=True)"
      ],
      "execution_count": null,
      "outputs": []
    },
    {
      "cell_type": "code",
      "metadata": {
        "colab": {
          "base_uri": "https://localhost:8080/",
          "height": 298
        },
        "id": "yGCLCI7upxIe",
        "outputId": "232139fe-d922-462f-d454-79678ae88816"
      },
      "source": [
        "df[\"label\"].value_counts().plot(kind=\"bar\")"
      ],
      "execution_count": null,
      "outputs": [
        {
          "output_type": "execute_result",
          "data": {
            "text/plain": [
              "<matplotlib.axes._subplots.AxesSubplot at 0x7f8201873cd0>"
            ]
          },
          "metadata": {},
          "execution_count": 13
        },
        {
          "output_type": "display_data",
          "data": {
            "image/png": "[encoded data removed]",
            "text/plain": [
              "<Figure size 432x288 with 1 Axes>"
            ]
          },
          "metadata": {
            "needs_background": "light"
          }
        }
      ]
    },
    {
      "cell_type": "code",
      "metadata": {
        "id": "Guc_kdM0OcI6"
      },
      "source": [
        "df.replace(to_replace=\"(<|>)\", value= \" \", inplace=True, regex=True) #remove this special character first, it's the bounds for my custom tokens\n",
        "df.replace(to_replace=\"\\s.*\\@.*\\s\", value= \" <mailAddress> \", inplace=True, regex=True)# replace email addresses\n",
        "df.replace(to_replace=\"\\s(http[s]?:|www\\..*\\.com).*\\s\", value= \" <siteLink> \", inplace=True, regex=True)# replace websites\n",
        "df.replace(to_replace=\"\\s[s]?ftp:.*\\s\", value= \" <ftpLink> \", inplace=True, regex=True) # replace ftp links\n",
        "df.replace(to_replace=\"([^a-zA-Z0-9 <>:\\'])\", value= \"\", inplace=True, regex=True)# remove everything except alphanumerics and a couple special characters\n",
        "\n",
        "df['subjectContent'] = [subject + \" \" + content for subject, content in zip(df['subject'], df['content'])] #combine subject and content into 1 feild"
      ],
      "execution_count": null,
      "outputs": []
    },
    {
      "cell_type": "code",
      "metadata": {
        "id": "aSonXiRwc0O7"
      },
      "source": [
        "maxFeature = 20000\n",
        "\n",
        "tokenizer = tf.keras.preprocessing.text.Tokenizer( # tokenize vocabulary, keep top 20000\n",
        "    num_words=maxFeature,\n",
        "    filters='',\n",
        "    lower=True, split=' ', char_level=False, oov_token='<OOV>'\n",
        ")\n",
        "tokenizer.fit_on_texts(subjectContent for subjectContent in df['subjectContent'].to_numpy())"
      ],
      "execution_count": null,
      "outputs": []
    },
    {
      "cell_type": "code",
      "metadata": {
        "id": "YKsC8OM4EgoY"
      },
      "source": [
        "df = df.sample(frac=1) #shuffle dataset and split into train and test\n",
        "y = df.pop('label').to_frame().astype(float)\n",
        "X = df.pop('subjectContent').to_frame()\n",
        "X_train, X_test, y_train, y_test = sklearn.model_selection.train_test_split(\n",
        "        X, y,stratify=y, test_size=0.15)"
      ],
      "execution_count": null,
      "outputs": []
    },
    {
      "cell_type": "code",
      "metadata": {
        "id": "N3-lujvKGPTt"
      },
      "source": [
        "class TokenAndPositionEmbedding(tf.keras.layers.Layer): #embedding layer\n",
        "    def __init__(self, maxlen, vocab_size, embed_dim):\n",
        "      super(TokenAndPositionEmbedding, self).__init__()\n",
        "      self.embed_dim=embed_dim #size of vector representing each word\n",
        "      self.token_emb = tf.keras.layers.Embedding(input_dim=vocab_size, output_dim=embed_dim)\n",
        "      self.pos_emb = tf.keras.layers.Embedding(input_dim=maxlen, output_dim=embed_dim)\n",
        "\n",
        "    def call(self, x):\n",
        "      maxlen = tf.shape(x)[-1]\n",
        "      positions = tf.range(start=0, limit=maxlen, delta=1)\n",
        "      positions = self.pos_emb(positions) # adds positional importance\n",
        "      x = self.token_emb(x) # from token sequence to vector representations, doesn't train semantics exactly more like spam/ham polarity of tokens\n",
        "      x *= tf.math.sqrt(tf.cast(self.embed_dim, tf.float32)) #scaling the embeddings to prevent the attention layers from either focusing consistently on one thing or from not focussing on anything at all\n",
        "      return x + positions"
      ],
      "execution_count": null,
      "outputs": []
    },
    {
      "cell_type": "code",
      "metadata": {
        "id": "72-gxoZYqInd"
      },
      "source": [
        "class LocalMultiHeadAttention(tf.keras.layers.Layer): #multihead attention layer\n",
        "  def __init__(self, d_model, num_heads):\n",
        "    super(LocalMultiHeadAttention, self).__init__()\n",
        "    self.num_heads = num_heads #multiple heads allows for attention of different things at different positions\n",
        "    self.d_model = d_model\n",
        "\n",
        "    assert d_model % self.num_heads == 0\n",
        "\n",
        "    self.depth = d_model // self.num_heads\n",
        "\n",
        "    self.wq = tf.keras.layers.Dense(d_model)\n",
        "    self.wk = tf.keras.layers.Dense(d_model)\n",
        "    self.wv = tf.keras.layers.Dense(d_model)\n",
        "\n",
        "    self.dense = tf.keras.layers.Dense(d_model)\n",
        "\n",
        "  def split_heads(self, x, batch_size): #splits dimension so different positional information will be jointly attended to num_heads different ways\n",
        "    \"\"\"Split the last dimension into (num_heads, depth).\n",
        "    Transpose the result such that the shape is (batch_size, num_heads, seq_len, depth)\n",
        "    \"\"\"\n",
        "    x = tf.reshape(x, (batch_size, -1, self.num_heads, self.depth))\n",
        "    return tf.transpose(x, perm=[0, 2, 1, 3])\n",
        "  \n",
        "  def scaled_dot_product_attention(self, query, key, value, mask):#applies dot product attention to all input sequences\n",
        "    QK_transpose = tf.matmul(query, key, transpose_b=True)\n",
        "    d_k = tf.cast(tf.shape(key)[-1], tf.float32)\n",
        "    attentionLogits = QK_transpose/tf.math.sqrt(d_k)\n",
        "    if mask is not None: #tells the attention not to pay attention to certain words, eg null tokens\n",
        "      attentionLogits += mask*-1000000000\n",
        "    attentionWeights = tf.nn.softmax(attentionLogits)\n",
        "    return tf.matmul(attentionWeights, value)\n",
        "\n",
        "  def call(self, v, k, q, mask):\n",
        "    batch_size = tf.shape(q)[0]\n",
        "\n",
        "    q = self.wq(q)  # (batch_size, seq_len, d_model)\n",
        "    k = self.wk(k)  # (batch_size, seq_len, d_model)\n",
        "    v = self.wv(v)  # (batch_size, seq_len, d_model)\n",
        "\n",
        "    q = self.split_heads(q, batch_size)  # (batch_size, num_heads, seq_len_q, depth)\n",
        "    k = self.split_heads(k, batch_size)  # (batch_size, num_heads, seq_len_k, depth)\n",
        "    v = self.split_heads(v, batch_size)  # (batch_size, num_heads, seq_len_v, depth)\n",
        "\n",
        "    # scaled_attention.shape == (batch_size, num_heads, seq_len_q, depth)\n",
        "    scaled_attention = self.scaled_dot_product_attention(q, k, v, mask)\n",
        "\n",
        "    scaled_attention = tf.transpose(scaled_attention, perm=[0, 2, 1, 3])  # (batch_size, seq_len_q, num_heads, depth)\n",
        "\n",
        "    concat_attention = tf.reshape(scaled_attention, #accumulates the attention from all the heads\n",
        "                                  (batch_size, -1, self.d_model))  # (batch_size, seq_len_q, d_model)\n",
        "\n",
        "    output = self.dense(concat_attention)  # (batch_size, seq_len_q, d_model), \n",
        "\n",
        "    return output"
      ],
      "execution_count": null,
      "outputs": []
    },
    {
      "cell_type": "code",
      "metadata": {
        "id": "PsIso5ocnkSZ"
      },
      "source": [
        "class EncoderLayer(tf.keras.layers.Layer):\n",
        "  def __init__(self, d_model, num_heads, dff, rate=0.1):\n",
        "    super(EncoderLayer, self).__init__()\n",
        "\n",
        "    self.mha = LocalMultiHeadAttention(d_model, num_heads) #attention\n",
        "    self.ffn = tf.keras.Sequential([\n",
        "        tf.keras.layers.Dense(dff, activation='relu'),  # (batch_size, seq_len, dff)\n",
        "        tf.keras.layers.Dense(d_model)  # (batch_size, seq_len, d_model)\n",
        "    ]) #tries to glean the meaning off of what is being payed attention to\n",
        "\n",
        "    self.layernorm1 = tf.keras.layers.LayerNormalization(epsilon=1e-6)\n",
        "    self.layernorm2 = tf.keras.layers.LayerNormalization(epsilon=1e-6)\n",
        "\n",
        "    self.dropout1 = tf.keras.layers.Dropout(rate)\n",
        "    self.dropout2 = tf.keras.layers.Dropout(rate)\n",
        "\n",
        "  def call(self, x, training, mask):\n",
        "\n",
        "    attn_output = self.mha(x, x, x, mask)  # (batch_size, input_seq_len, d_model)\n",
        "    attn_output = self.dropout1(attn_output, training=training)\n",
        "    out1 = self.layernorm1(x + attn_output)  # (batch_size, input_seq_len, d_model)\n",
        "\n",
        "    ffn_output = self.ffn(out1)  # (batch_size, input_seq_len, d_model)\n",
        "    ffn_output = self.dropout2(ffn_output, training=training)\n",
        "    out2 = self.layernorm2(out1 + ffn_output)  # (batch_size, input_seq_len, d_model)\n",
        "\n",
        "    return out2"
      ],
      "execution_count": null,
      "outputs": []
    },
    {
      "cell_type": "code",
      "metadata": {
        "id": "2V3ev1wimtfu"
      },
      "source": [
        "class Encoder(tf.keras.layers.Layer):\n",
        "  def __init__(self, num_layers, d_model, num_heads, dff, input_vocab_size, rate=0.1):\n",
        "    super(Encoder, self).__init__()\n",
        "\n",
        "    self.d_model = d_model\n",
        "    self.num_layers = num_layers\n",
        "\n",
        "    self.enc_layers = [EncoderLayer(d_model, num_heads, dff, rate)\n",
        "                       for _ in range(num_layers)] #stacks encoders\n",
        "\n",
        "    self.dropout = tf.keras.layers.Dropout(rate)\n",
        "\n",
        "  def call(self, x, training, mask):\n",
        "\n",
        "    seq_len = tf.shape(x)[1]\n",
        "\n",
        "    x = self.dropout(x, training=training)\n",
        "\n",
        "    for i in range(self.num_layers):\n",
        "      x = self.enc_layers[i](x, training, mask)\n",
        "\n",
        "    return x  # (batch_size, input_seq_len, d_model)"
      ],
      "execution_count": null,
      "outputs": []
    },
    {
      "cell_type": "code",
      "metadata": {
        "id": "MQWds3xwi6tX"
      },
      "source": [
        "class SpamClassifier(tf.keras.Model):\n",
        "  def __init__(self, num_layers, d_model, num_heads, dff, input_vocab_size,\n",
        "               maximum_position_encoding, num_classes = 1, rate=0.1):\n",
        "    super().__init__()\n",
        "    \n",
        "    self.embedding = TokenAndPositionEmbedding(maximum_position_encoding, input_vocab_size, d_model)\n",
        "\n",
        "    self.encoder = Encoder(num_layers, d_model, num_heads, dff,\n",
        "                             input_vocab_size, rate)\n",
        "    \n",
        "    self.globalAveragePool = tf.keras.layers.GlobalAveragePooling1D()\n",
        "    \n",
        "    self.drop1 = tf.keras.layers.Dropout(rate)\n",
        "    self.drop2 = tf.keras.layers.Dropout(rate)\n",
        "    \n",
        "    self.dense = tf.keras.layers.Dense(num_classes, activation='sigmoid')\n",
        "\n",
        "  def call(self, inputs, training): #inputs = (batch_size, input sequence)\n",
        "    enc_padding_mask = create_padding_mask2(inputs) #(batch_Size, 1, 1, sequenceLength) tells the model not to pay attention to null tokens\n",
        "\n",
        "    # adding embedding and position encoding.\n",
        "    x = self.embedding(inputs)  # x=(batch_size, input_seq_len, d_model)\n",
        "\n",
        "    enc_output = self.encoder(x, training, enc_padding_mask)  # (batch_size, inp_seq_len, d_model)\n",
        "\n",
        "    feature_pool = self.globalAveragePool(enc_output) #smooths out the features the model identifies\n",
        "    feature_pool = self.drop1(feature_pool)\n",
        "\n",
        "    hamSpam = self.dense(feature_pool) #makes prediction based on the features\n",
        "    hamSpam = self.drop2(hamSpam)\n",
        "\n",
        "    return hamSpam\n",
        "\n",
        "def create_padding_mask2(sequence): \n",
        "  return tf.cast(tf.math.equal(sequence, 0), tf.float32)[:,tf.newaxis,tf.newaxis,:]\n"
      ],
      "execution_count": null,
      "outputs": []
    },
    {
      "cell_type": "code",
      "metadata": {
        "id": "hC0FQ7f17nvQ"
      },
      "source": [
        "max_sentence_length=1024"
      ],
      "execution_count": null,
      "outputs": []
    },
    {
      "cell_type": "code",
      "metadata": {
        "id": "-OA7L-5Y88R8"
      },
      "source": [
        "#uniformly sets all sequences to length 1024\n",
        "token_train_set_temp = [np.squeeze(np.array([np.array(token) for token in tokenizer.texts_to_sequences(val)])) for val in X_train.values]\n",
        "token_test_set_temp = [np.squeeze(np.array([np.array(token) for token in tokenizer.texts_to_sequences(val)])) for val in X_test.values]\n",
        "token_train_set = []\n",
        "token_test_set = []\n",
        "zero = np.zeros((max_sentence_length))\n",
        "for i in token_train_set_temp:\n",
        "  # np.append(i,zero[max_sentence_length:]).shape\n",
        "  if i.shape[0]<max_sentence_length:\n",
        "    l = np.append(i,zero[i.shape[0]:])\n",
        "  else:\n",
        "    l = i[:max_sentence_length]\n",
        "  token_train_set.append(l)\n",
        "for i in token_test_set_temp:\n",
        "  if i.shape[0]<max_sentence_length:\n",
        "    l = np.append(i,zero[i.shape[0]:])\n",
        "  else:\n",
        "    l = i[:max_sentence_length]\n",
        "  token_test_set.append(l)\n",
        "token_train_set = np.array(token_train_set)\n",
        "token_test_set = np.array(token_test_set)\n",
        "\n"
      ],
      "execution_count": null,
      "outputs": []
    },
    {
      "cell_type": "code",
      "metadata": {
        "colab": {
          "base_uri": "https://localhost:8080/"
        },
        "id": "ca7hzYb27rf_",
        "outputId": "03e9d5f2-f388-424f-f376-8d432d689187"
      },
      "source": [
        "token_test_set.shape"
      ],
      "execution_count": null,
      "outputs": [
        {
          "output_type": "execute_result",
          "data": {
            "text/plain": [
              "(429, 1024)"
            ]
          },
          "metadata": {},
          "execution_count": 24
        }
      ]
    },
    {
      "cell_type": "code",
      "metadata": {
        "id": "GzTV7wCd083B"
      },
      "source": [
        "def evaluator(test_y, pred_y): #used for confusion matrix\n",
        "  accuracy = np.sum(test_y == pred_y) / test_y.shape[0]\n",
        "  confMatrix = np.zeros((2,2))\n",
        "  for i in range(test_y.shape[0]):\n",
        "    confMatrix[test_y[i].astype(int)][pred_y[i].astype(int)] += 1\n",
        "\n",
        "  print('Confusion Matrix:')\n",
        "  print(confMatrix)\n",
        "  print('accurancy: ', accuracy)\n"
      ],
      "execution_count": null,
      "outputs": []
    },
    {
      "cell_type": "code",
      "metadata": {
        "id": "M-dcvMPb9BhQ"
      },
      "source": [
        "num_layers=1 #some default settings\n",
        "d_model=16\n",
        "dff=512\n",
        "vocab_size=20000\n",
        "max_sentence_length=1024\n",
        "num_heads=4\n",
        "dropout_rate=0.1\n"
      ],
      "execution_count": null,
      "outputs": []
    },
    {
      "cell_type": "code",
      "metadata": {
        "id": "Ht_5WWJJlnxo",
        "colab": {
          "base_uri": "https://localhost:8080/",
          "height": 916
        },
        "outputId": "1ae7f902-55af-451d-856c-1dc50689eaa5"
      },
      "source": [
        "model1 = SpamClassifier(\n",
        "    num_layers=num_layers,\n",
        "    d_model=d_model,\n",
        "    num_heads=num_heads,\n",
        "    dff=dff,\n",
        "    input_vocab_size= vocab_size,\n",
        "    maximum_position_encoding=max_sentence_length,\n",
        "    rate=dropout_rate)\n",
        "\n",
        "model1.compile(optimizer = 'adam', \n",
        "                    loss = tf.keras.losses.BinaryCrossentropy(from_logits=True),\n",
        "                    metrics=['accuracy'])\n",
        "\n",
        "history = model1.fit(token_train_set, y_train['label'], batch_size=32, epochs=10)\n",
        "\n",
        "pd.DataFrame(history.history).plot(xlabel=\"Epoch\")\n",
        "plt.title(\"Loss & Accuracy over time\")\n",
        "\n",
        "y_pred = model1.predict(token_test_set)\n",
        "print(sklearn.metrics.classification_report(y_test['label'].to_numpy(), np.around(y_pred)))\n",
        "print()\n",
        "print()\n",
        "evaluator(y_test['label'].to_numpy(),np.around(y_pred).flatten())"
      ],
      "execution_count": null,
      "outputs": [
        {
          "output_type": "stream",
          "name": "stdout",
          "text": [
            "Epoch 1/10\n",
            "76/76 [==============================] - 16s 173ms/step - loss: 0.4700 - accuracy: 0.7815\n",
            "Epoch 2/10\n",
            "76/76 [==============================] - 13s 172ms/step - loss: 0.4665 - accuracy: 0.7865\n",
            "Epoch 3/10\n",
            "76/76 [==============================] - 13s 172ms/step - loss: 0.4694 - accuracy: 0.7774\n",
            "Epoch 4/10\n",
            "76/76 [==============================] - 13s 172ms/step - loss: 0.3862 - accuracy: 0.9019\n",
            "Epoch 5/10\n",
            "76/76 [==============================] - 13s 171ms/step - loss: 0.3814 - accuracy: 0.9081\n",
            "Epoch 6/10\n",
            "76/76 [==============================] - 13s 171ms/step - loss: 0.3763 - accuracy: 0.9192\n",
            "Epoch 7/10\n",
            "76/76 [==============================] - 13s 171ms/step - loss: 0.3784 - accuracy: 0.9122\n",
            "Epoch 8/10\n",
            "76/76 [==============================] - 13s 171ms/step - loss: 0.3748 - accuracy: 0.9209\n",
            "Epoch 9/10\n",
            "76/76 [==============================] - 13s 171ms/step - loss: 0.3756 - accuracy: 0.9184\n",
            "Epoch 10/10\n",
            "76/76 [==============================] - 13s 172ms/step - loss: 0.3744 - accuracy: 0.9213\n",
            "              precision    recall  f1-score   support\n",
            "\n",
            "         0.0       0.97      0.98      0.98        60\n",
            "         1.0       1.00      0.99      1.00       369\n",
            "\n",
            "    accuracy                           0.99       429\n",
            "   macro avg       0.98      0.99      0.99       429\n",
            "weighted avg       0.99      0.99      0.99       429\n",
            "\n",
            "\n",
            "\n",
            "Confusion Matrix:\n",
            "[[ 59.   1.]\n",
            " [  2. 367.]]\n",
            "accurancy:  0.993006993006993\n"
          ]
        },
        {
          "output_type": "display_data",
          "data": {
            "image/png": "[encoded data removed]",
            "text/plain": [
              "<Figure size 432x288 with 1 Axes>"
            ]
          },
          "metadata": {
            "needs_background": "light"
          }
        }
      ]
    },
    {
      "cell_type": "code",
      "metadata": {
        "colab": {
          "base_uri": "https://localhost:8080/",
          "height": 1000
        },
        "id": "qnGLQLgGTDxp",
        "outputId": "018ae7e9-024d-41ba-c888-d4439ca92cf0"
      },
      "source": [
        "model2 = SpamClassifier(\n",
        "    num_layers=3,\n",
        "    d_model=24,\n",
        "    num_heads=6,\n",
        "    dff=512,\n",
        "    input_vocab_size= vocab_size,\n",
        "    maximum_position_encoding=max_sentence_length,\n",
        "    rate=dropout_rate)\n",
        "\n",
        "model2.compile(optimizer = 'adam', \n",
        "                    loss = tf.keras.losses.BinaryCrossentropy(from_logits=True),\n",
        "                    metrics=['accuracy'])\n",
        "history2 = model2.fit(token_train_set, y_train['label'], batch_size=32, epochs=15)#, validation_data=(token_test_set, y_val))\n",
        "\n",
        "pd.DataFrame(history2.history).plot(xlabel=\"Epoch\")\n",
        "plt.title(\"Loss & Accuracy over time\")\n",
        "\n",
        "y_pred2 = model2.predict(token_test_set)\n",
        "print(sklearn.metrics.classification_report(y_test['label'].to_numpy(), np.around(y_pred2)))\n",
        "print()\n",
        "print()\n",
        "evaluator(y_test['label'].to_numpy(),np.around(y_pred2).flatten())"
      ],
      "execution_count": null,
      "outputs": [
        {
          "output_type": "stream",
          "name": "stdout",
          "text": [
            "Epoch 1/15\n",
            "76/76 [==============================] - 58s 695ms/step - loss: 0.4714 - accuracy: 0.7766\n",
            "Epoch 2/15\n",
            "76/76 [==============================] - 53s 695ms/step - loss: 0.4675 - accuracy: 0.7852\n",
            "Epoch 3/15\n",
            "76/76 [==============================] - 53s 694ms/step - loss: 0.4717 - accuracy: 0.7766\n",
            "Epoch 4/15\n",
            "76/76 [==============================] - 53s 695ms/step - loss: 0.4595 - accuracy: 0.7968\n",
            "Epoch 5/15\n",
            "76/76 [==============================] - 53s 694ms/step - loss: 0.4064 - accuracy: 0.8718\n",
            "Epoch 6/15\n",
            "76/76 [==============================] - 53s 694ms/step - loss: 0.4032 - accuracy: 0.8594\n",
            "Epoch 7/15\n",
            "76/76 [==============================] - 53s 695ms/step - loss: 0.3854 - accuracy: 0.9027\n",
            "Epoch 8/15\n",
            "76/76 [==============================] - 53s 695ms/step - loss: 0.3848 - accuracy: 0.9056\n",
            "Epoch 9/15\n",
            "76/76 [==============================] - 53s 694ms/step - loss: 0.3893 - accuracy: 0.8974\n",
            "Epoch 10/15\n",
            "76/76 [==============================] - 53s 693ms/step - loss: 0.3868 - accuracy: 0.9002\n",
            "Epoch 11/15\n",
            "76/76 [==============================] - 53s 695ms/step - loss: 0.3876 - accuracy: 0.8941\n",
            "Epoch 12/15\n",
            "76/76 [==============================] - 53s 694ms/step - loss: 0.3863 - accuracy: 0.8982\n",
            "Epoch 13/15\n",
            "76/76 [==============================] - 53s 694ms/step - loss: 0.3830 - accuracy: 0.9052\n",
            "Epoch 14/15\n",
            "76/76 [==============================] - 53s 694ms/step - loss: 0.3817 - accuracy: 0.9077\n",
            "Epoch 15/15\n",
            "76/76 [==============================] - 53s 694ms/step - loss: 0.3843 - accuracy: 0.9011\n",
            "              precision    recall  f1-score   support\n",
            "\n",
            "         0.0       0.97      0.97      0.97        60\n",
            "         1.0       0.99      0.99      0.99       369\n",
            "\n",
            "    accuracy                           0.99       429\n",
            "   macro avg       0.98      0.98      0.98       429\n",
            "weighted avg       0.99      0.99      0.99       429\n",
            "\n",
            "\n",
            "\n",
            "Confusion Matrix:\n",
            "[[ 58.   2.]\n",
            " [  2. 367.]]\n",
            "accurancy:  0.9906759906759907\n"
          ]
        },
        {
          "output_type": "display_data",
          "data": {
            "image/png": "[encoded data removed]",
            "text/plain": [
              "<Figure size 432x288 with 1 Axes>"
            ]
          },
          "metadata": {
            "needs_background": "light"
          }
        }
      ]
    },
    {
      "cell_type": "code",
      "metadata": {
        "id": "TeWh04H0KPbR"
      },
      "source": [
        "class EncoderLayer3(tf.keras.layers.Layer):\n",
        "  def __init__(self, d_model, num_heads, dff, rate=0.1):\n",
        "    super(EncoderLayer3, self).__init__()\n",
        "\n",
        "    self.lstm1 = tf.keras.layers.LSTM(d_model,return_sequences=True)# additional lstm layers for ordering significance\n",
        "    self.lstm2 = tf.keras.layers.LSTM(d_model,return_sequences=True)\n",
        "\n",
        "    self.mha = LocalMultiHeadAttention(d_model, num_heads)\n",
        "    self.ffn = tf.keras.Sequential([\n",
        "        tf.keras.layers.Dense(dff, activation='relu'),  # (batch_size, seq_len, dff)\n",
        "        tf.keras.layers.Dense(d_model)  # (batch_size, seq_len, d_model)\n",
        "    ])\n",
        "\n",
        "    self.layernorm1 = tf.keras.layers.LayerNormalization(epsilon=1e-6)\n",
        "    self.layernorm2 = tf.keras.layers.LayerNormalization(epsilon=1e-6)\n",
        "\n",
        "    self.dropout1 = tf.keras.layers.Dropout(rate)\n",
        "    self.dropout2 = tf.keras.layers.Dropout(rate)\n",
        "\n",
        "  def call(self, x, training, mask):\n",
        "    x = self.lstm1(x)\n",
        "    x = self.lstm2(x)\n",
        "\n",
        "    attn_output = self.mha(x, x, x, mask)  # (batch_size, input_seq_len, d_model)\n",
        "    attn_output = self.dropout1(attn_output, training=training)\n",
        "    out1 = self.layernorm1(x + attn_output)  # (batch_size, input_seq_len, d_model)\n",
        "\n",
        "    ffn_output = self.ffn(out1)  # (batch_size, input_seq_len, d_model)\n",
        "    ffn_output = self.dropout2(ffn_output, training=training)\n",
        "    out2 = self.layernorm2(out1 + ffn_output)  # (batch_size, input_seq_len, d_model)\n",
        "\n",
        "    return out2\n",
        "class Encoder3(tf.keras.layers.Layer):\n",
        "  def __init__(self, num_layers, d_model, num_heads, dff, input_vocab_size, rate=0.1):\n",
        "    super(Encoder3, self).__init__()\n",
        "\n",
        "    self.d_model = d_model\n",
        "    self.num_layers = num_layers\n",
        "\n",
        "    self.enc_layers = [EncoderLayer3(d_model, num_heads, dff, rate)\n",
        "                        for _ in range(num_layers)]\n",
        "    self.dropout = tf.keras.layers.Dropout(rate)\n",
        "\n",
        "  def call(self, x, training, mask):\n",
        "\n",
        "    seq_len = tf.shape(x)[1]\n",
        "\n",
        "    x = self.dropout(x, training=training)\n",
        "\n",
        "    for i in range(self.num_layers):\n",
        "        x = self.enc_layers[i](x, training, mask)\n",
        "\n",
        "    return x  # (batch_size, input_seq_len, d_model)\n",
        "\n",
        "class SpamClassifier3(tf.keras.Model):\n",
        "  def __init__(self, num_layers, d_model, num_heads, dff, input_vocab_size,\n",
        "               maximum_position_encoding, num_classes = 1, rate=0.1):\n",
        "    super().__init__()\n",
        "    \n",
        "    self.embedding = TokenAndPositionEmbedding(maximum_position_encoding, input_vocab_size, d_model)\n",
        "\n",
        "    self.encoder = Encoder3(num_layers, d_model, num_heads, dff,\n",
        "                             input_vocab_size, rate)\n",
        "    \n",
        "    self.globalAveragePool = tf.keras.layers.GlobalAveragePooling1D()\n",
        "    \n",
        "    self.drop1 = tf.keras.layers.Dropout(rate)\n",
        "    self.drop2 = tf.keras.layers.Dropout(rate)\n",
        "    \n",
        "    self.dense = tf.keras.layers.Dense(num_classes, activation='sigmoid')\n",
        "\n",
        "  def call(self, inputs, training): #inputs = (batch_size, input sequence)\n",
        "    enc_padding_mask = create_padding_mask2(inputs) #enc_padding_mask = (batch_Size, 1, 1, sequenceLength)\n",
        "\n",
        "    # adding embedding and position encoding.\n",
        "    x = self.embedding(inputs)  # x=(batch_size, input_seq_len, d_model)\n",
        "\n",
        "    enc_output = self.encoder(x, training, enc_padding_mask)  # (batch_size, inp_seq_len, d_model)\n",
        "\n",
        "    feature_pool = self.globalAveragePool(enc_output)\n",
        "    feature_pool = self.drop1(feature_pool)\n",
        "\n",
        "    hamSpam = self.dense(feature_pool)\n",
        "    hamSpam = self.drop2(hamSpam)\n",
        "\n",
        "    return hamSpam"
      ],
      "execution_count": null,
      "outputs": []
    },
    {
      "cell_type": "code",
      "metadata": {
        "colab": {
          "base_uri": "https://localhost:8080/",
          "height": 916
        },
        "id": "U29IpxQm8KTX",
        "outputId": "e7c41ca6-7253-4504-a2c3-1553b367e39e"
      },
      "source": [
        "model3 = SpamClassifier3(\n",
        "    num_layers=1,\n",
        "    d_model=16,\n",
        "    num_heads=4,\n",
        "    dff=512,\n",
        "    input_vocab_size = vocab_size,\n",
        "    maximum_position_encoding=max_sentence_length,\n",
        "    rate=dropout_rate)\n",
        "\n",
        "model3.compile(optimizer = 'adam', \n",
        "                    loss = tf.keras.losses.BinaryCrossentropy(from_logits=True),\n",
        "                    metrics=['accuracy'])\n",
        "history3 = model3.fit(token_train_set, y_train['label'], batch_size=32, epochs=10)\n",
        "\n",
        "pd.DataFrame(history3.history).plot(xlabel=\"Epoch\")\n",
        "plt.title(\"Loss & Accuracy over time\")\n",
        "\n",
        "y_pred3 = model3.predict(token_test_set)\n",
        "print(sklearn.metrics.classification_report(y_test['label'].to_numpy(), np.around(y_pred3)))\n",
        "print()\n",
        "print()\n",
        "evaluator(y_test['label'].to_numpy(),np.around(y_pred3).flatten())"
      ],
      "execution_count": null,
      "outputs": [
        {
          "output_type": "stream",
          "name": "stdout",
          "text": [
            "Epoch 1/10\n",
            "76/76 [==============================] - 32s 345ms/step - loss: 0.4607 - accuracy: 0.8026\n",
            "Epoch 2/10\n",
            "76/76 [==============================] - 26s 345ms/step - loss: 0.4637 - accuracy: 0.7939\n",
            "Epoch 3/10\n",
            "76/76 [==============================] - 26s 345ms/step - loss: 0.4326 - accuracy: 0.8335\n",
            "Epoch 4/10\n",
            "76/76 [==============================] - 26s 345ms/step - loss: 0.3848 - accuracy: 0.9064\n",
            "Epoch 5/10\n",
            "76/76 [==============================] - 26s 345ms/step - loss: 0.3826 - accuracy: 0.9048\n",
            "Epoch 6/10\n",
            "76/76 [==============================] - 26s 346ms/step - loss: 0.3834 - accuracy: 0.9035\n",
            "Epoch 7/10\n",
            "76/76 [==============================] - 26s 345ms/step - loss: 0.3845 - accuracy: 0.9002\n",
            "Epoch 8/10\n",
            "76/76 [==============================] - 26s 346ms/step - loss: 0.3788 - accuracy: 0.9130\n",
            "Epoch 9/10\n",
            "76/76 [==============================] - 26s 346ms/step - loss: 0.3789 - accuracy: 0.9134\n",
            "Epoch 10/10\n",
            "76/76 [==============================] - 26s 346ms/step - loss: 0.3789 - accuracy: 0.9126\n",
            "              precision    recall  f1-score   support\n",
            "\n",
            "         0.0       0.95      0.95      0.95        60\n",
            "         1.0       0.99      0.99      0.99       369\n",
            "\n",
            "    accuracy                           0.99       429\n",
            "   macro avg       0.97      0.97      0.97       429\n",
            "weighted avg       0.99      0.99      0.99       429\n",
            "\n",
            "\n",
            "\n",
            "Confusion Matrix:\n",
            "[[ 57.   3.]\n",
            " [  3. 366.]]\n",
            "accurancy:  0.986013986013986\n"
          ]
        },
        {
          "output_type": "display_data",
          "data": {
            "image/png": "[encoded data removed]",
            "text/plain": [
              "<Figure size 432x288 with 1 Axes>"
            ]
          },
          "metadata": {
            "needs_background": "light"
          }
        }
      ]
    },
    {
      "cell_type": "code",
      "metadata": {
        "colab": {
          "base_uri": "https://localhost:8080/",
          "height": 1000
        },
        "id": "-59If0oBiUHn",
        "outputId": "6431fb82-bd98-411c-a6ff-64724b54afd8"
      },
      "source": [
        "model4 = SpamClassifier3(\n",
        "    num_layers=3,\n",
        "    d_model=16,\n",
        "    num_heads=4,\n",
        "    dff=512,\n",
        "    input_vocab_size = vocab_size,\n",
        "    maximum_position_encoding=max_sentence_length,\n",
        "    rate=dropout_rate)\n",
        "\n",
        "model4.compile(optimizer = 'adam', \n",
        "                    loss = tf.keras.losses.BinaryCrossentropy(from_logits=True),\n",
        "                    metrics=['accuracy'])\n",
        "history4 = model4.fit(token_train_set, y_train['label'], batch_size=32, epochs=15)\n",
        "\n",
        "pd.DataFrame(history4.history).plot(xlabel=\"Epoch\")\n",
        "plt.title(\"Loss & Accuracy over time\")\n",
        "\n",
        "y_pred4 = model4.predict(token_test_set)\n",
        "print(sklearn.metrics.classification_report(y_test['label'].to_numpy(), np.around(y_pred4)))\n",
        "print()\n",
        "print()\n",
        "evaluator(y_test['label'].to_numpy(),np.around(y_pred4).flatten())"
      ],
      "execution_count": null,
      "outputs": [
        {
          "output_type": "stream",
          "name": "stdout",
          "text": [
            "Epoch 1/15\n",
            "76/76 [==============================] - 93s 1s/step - loss: 0.4385 - accuracy: 0.8256\n",
            "Epoch 2/15\n",
            "76/76 [==============================] - 78s 1s/step - loss: 0.4023 - accuracy: 0.8747\n",
            "Epoch 3/15\n",
            "76/76 [==============================] - 78s 1s/step - loss: 0.3938 - accuracy: 0.8862\n",
            "Epoch 4/15\n",
            "76/76 [==============================] - 78s 1s/step - loss: 0.3862 - accuracy: 0.8998\n",
            "Epoch 5/15\n",
            "76/76 [==============================] - 78s 1s/step - loss: 0.3845 - accuracy: 0.9040\n",
            "Epoch 6/15\n",
            "76/76 [==============================] - 78s 1s/step - loss: 0.3841 - accuracy: 0.9035\n",
            "Epoch 7/15\n",
            "76/76 [==============================] - 77s 1s/step - loss: 0.3952 - accuracy: 0.8755\n",
            "Epoch 8/15\n",
            "76/76 [==============================] - 77s 1s/step - loss: 0.3895 - accuracy: 0.8928\n",
            "Epoch 9/15\n",
            "76/76 [==============================] - 77s 1s/step - loss: 0.3900 - accuracy: 0.8932\n",
            "Epoch 10/15\n",
            "76/76 [==============================] - 78s 1s/step - loss: 0.3884 - accuracy: 0.8949\n",
            "Epoch 11/15\n",
            "76/76 [==============================] - 78s 1s/step - loss: 0.3850 - accuracy: 0.9027\n",
            "Epoch 12/15\n",
            "76/76 [==============================] - 78s 1s/step - loss: 0.4005 - accuracy: 0.8656\n",
            "Epoch 13/15\n",
            "76/76 [==============================] - 78s 1s/step - loss: 0.4101 - accuracy: 0.8413\n",
            "Epoch 14/15\n",
            "76/76 [==============================] - 78s 1s/step - loss: 0.4139 - accuracy: 0.8652\n",
            "Epoch 15/15\n",
            "76/76 [==============================] - 78s 1s/step - loss: 0.4040 - accuracy: 0.8722\n",
            "              precision    recall  f1-score   support\n",
            "\n",
            "         0.0       1.00      0.83      0.91        60\n",
            "         1.0       0.97      1.00      0.99       369\n",
            "\n",
            "    accuracy                           0.98       429\n",
            "   macro avg       0.99      0.92      0.95       429\n",
            "weighted avg       0.98      0.98      0.98       429\n",
            "\n",
            "\n",
            "\n",
            "Confusion Matrix:\n",
            "[[ 50.  10.]\n",
            " [  0. 369.]]\n",
            "accurancy:  0.9766899766899767\n"
          ]
        },
        {
          "output_type": "display_data",
          "data": {
            "image/png": "[encoded data removed]",
            "text/plain": [
              "<Figure size 432x288 with 1 Axes>"
            ]
          },
          "metadata": {
            "needs_background": "light"
          }
        }
      ]
    }
  ]
}